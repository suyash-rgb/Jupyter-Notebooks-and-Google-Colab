{
  "nbformat": 4,
  "nbformat_minor": 0,
  "metadata": {
    "colab": {
      "provenance": [],
      "authorship_tag": "ABX9TyOgAHZ6FdqNmOCCKl/gtEy3",
      "include_colab_link": true
    },
    "kernelspec": {
      "name": "python3",
      "display_name": "Python 3"
    },
    "language_info": {
      "name": "python"
    }
  },
  "cells": [
    {
      "cell_type": "markdown",
      "metadata": {
        "id": "view-in-github",
        "colab_type": "text"
      },
      "source": [
        "<a href=\"https://colab.research.google.com/github/suyash-rgb/Jupyter-Notebooks-and-Google-Colab/blob/main/SemanticSimilarity.ipynb\" target=\"_parent\"><img src=\"https://colab.research.google.com/assets/colab-badge.svg\" alt=\"Open In Colab\"/></a>"
      ]
    },
    {
      "cell_type": "code",
      "execution_count": null,
      "metadata": {
        "id": "5wJ8a1y_t5ws"
      },
      "outputs": [],
      "source": []
    },
    {
      "cell_type": "code",
      "source": [],
      "metadata": {
        "id": "dxQ4bxequenP"
      },
      "execution_count": null,
      "outputs": []
    },
    {
      "cell_type": "code",
      "metadata": {
        "colab": {
          "base_uri": "https://localhost:8080/"
        },
        "collapsed": true,
        "id": "9a158068",
        "outputId": "c5bd15af-3263-459a-83bd-3eea67b15fcc"
      },
      "source": [
        "!pip install sentence-transformers"
      ],
      "execution_count": 2,
      "outputs": [
        {
          "output_type": "stream",
          "name": "stdout",
          "text": [
            "Requirement already satisfied: sentence-transformers in /usr/local/lib/python3.12/dist-packages (5.1.0)\n",
            "Requirement already satisfied: transformers<5.0.0,>=4.41.0 in /usr/local/lib/python3.12/dist-packages (from sentence-transformers) (4.56.0)\n",
            "Requirement already satisfied: tqdm in /usr/local/lib/python3.12/dist-packages (from sentence-transformers) (4.67.1)\n",
            "Requirement already satisfied: torch>=1.11.0 in /usr/local/lib/python3.12/dist-packages (from sentence-transformers) (2.8.0+cu126)\n",
            "Requirement already satisfied: scikit-learn in /usr/local/lib/python3.12/dist-packages (from sentence-transformers) (1.6.1)\n",
            "Requirement already satisfied: scipy in /usr/local/lib/python3.12/dist-packages (from sentence-transformers) (1.16.1)\n",
            "Requirement already satisfied: huggingface-hub>=0.20.0 in /usr/local/lib/python3.12/dist-packages (from sentence-transformers) (0.34.4)\n",
            "Requirement already satisfied: Pillow in /usr/local/lib/python3.12/dist-packages (from sentence-transformers) (11.3.0)\n",
            "Requirement already satisfied: typing_extensions>=4.5.0 in /usr/local/lib/python3.12/dist-packages (from sentence-transformers) (4.15.0)\n",
            "Requirement already satisfied: filelock in /usr/local/lib/python3.12/dist-packages (from huggingface-hub>=0.20.0->sentence-transformers) (3.19.1)\n",
            "Requirement already satisfied: fsspec>=2023.5.0 in /usr/local/lib/python3.12/dist-packages (from huggingface-hub>=0.20.0->sentence-transformers) (2025.3.0)\n",
            "Requirement already satisfied: packaging>=20.9 in /usr/local/lib/python3.12/dist-packages (from huggingface-hub>=0.20.0->sentence-transformers) (25.0)\n",
            "Requirement already satisfied: pyyaml>=5.1 in /usr/local/lib/python3.12/dist-packages (from huggingface-hub>=0.20.0->sentence-transformers) (6.0.2)\n",
            "Requirement already satisfied: requests in /usr/local/lib/python3.12/dist-packages (from huggingface-hub>=0.20.0->sentence-transformers) (2.32.4)\n",
            "Requirement already satisfied: hf-xet<2.0.0,>=1.1.3 in /usr/local/lib/python3.12/dist-packages (from huggingface-hub>=0.20.0->sentence-transformers) (1.1.9)\n",
            "Requirement already satisfied: setuptools in /usr/local/lib/python3.12/dist-packages (from torch>=1.11.0->sentence-transformers) (75.2.0)\n",
            "Requirement already satisfied: sympy>=1.13.3 in /usr/local/lib/python3.12/dist-packages (from torch>=1.11.0->sentence-transformers) (1.13.3)\n",
            "Requirement already satisfied: networkx in /usr/local/lib/python3.12/dist-packages (from torch>=1.11.0->sentence-transformers) (3.5)\n",
            "Requirement already satisfied: jinja2 in /usr/local/lib/python3.12/dist-packages (from torch>=1.11.0->sentence-transformers) (3.1.6)\n",
            "Requirement already satisfied: nvidia-cuda-nvrtc-cu12==12.6.77 in /usr/local/lib/python3.12/dist-packages (from torch>=1.11.0->sentence-transformers) (12.6.77)\n",
            "Requirement already satisfied: nvidia-cuda-runtime-cu12==12.6.77 in /usr/local/lib/python3.12/dist-packages (from torch>=1.11.0->sentence-transformers) (12.6.77)\n",
            "Requirement already satisfied: nvidia-cuda-cupti-cu12==12.6.80 in /usr/local/lib/python3.12/dist-packages (from torch>=1.11.0->sentence-transformers) (12.6.80)\n",
            "Requirement already satisfied: nvidia-cudnn-cu12==9.10.2.21 in /usr/local/lib/python3.12/dist-packages (from torch>=1.11.0->sentence-transformers) (9.10.2.21)\n",
            "Requirement already satisfied: nvidia-cublas-cu12==12.6.4.1 in /usr/local/lib/python3.12/dist-packages (from torch>=1.11.0->sentence-transformers) (12.6.4.1)\n",
            "Requirement already satisfied: nvidia-cufft-cu12==11.3.0.4 in /usr/local/lib/python3.12/dist-packages (from torch>=1.11.0->sentence-transformers) (11.3.0.4)\n",
            "Requirement already satisfied: nvidia-curand-cu12==10.3.7.77 in /usr/local/lib/python3.12/dist-packages (from torch>=1.11.0->sentence-transformers) (10.3.7.77)\n",
            "Requirement already satisfied: nvidia-cusolver-cu12==11.7.1.2 in /usr/local/lib/python3.12/dist-packages (from torch>=1.11.0->sentence-transformers) (11.7.1.2)\n",
            "Requirement already satisfied: nvidia-cusparse-cu12==12.5.4.2 in /usr/local/lib/python3.12/dist-packages (from torch>=1.11.0->sentence-transformers) (12.5.4.2)\n",
            "Requirement already satisfied: nvidia-cusparselt-cu12==0.7.1 in /usr/local/lib/python3.12/dist-packages (from torch>=1.11.0->sentence-transformers) (0.7.1)\n",
            "Requirement already satisfied: nvidia-nccl-cu12==2.27.3 in /usr/local/lib/python3.12/dist-packages (from torch>=1.11.0->sentence-transformers) (2.27.3)\n",
            "Requirement already satisfied: nvidia-nvtx-cu12==12.6.77 in /usr/local/lib/python3.12/dist-packages (from torch>=1.11.0->sentence-transformers) (12.6.77)\n",
            "Requirement already satisfied: nvidia-nvjitlink-cu12==12.6.85 in /usr/local/lib/python3.12/dist-packages (from torch>=1.11.0->sentence-transformers) (12.6.85)\n",
            "Requirement already satisfied: nvidia-cufile-cu12==1.11.1.6 in /usr/local/lib/python3.12/dist-packages (from torch>=1.11.0->sentence-transformers) (1.11.1.6)\n",
            "Requirement already satisfied: triton==3.4.0 in /usr/local/lib/python3.12/dist-packages (from torch>=1.11.0->sentence-transformers) (3.4.0)\n",
            "Requirement already satisfied: numpy>=1.17 in /usr/local/lib/python3.12/dist-packages (from transformers<5.0.0,>=4.41.0->sentence-transformers) (2.0.2)\n",
            "Requirement already satisfied: regex!=2019.12.17 in /usr/local/lib/python3.12/dist-packages (from transformers<5.0.0,>=4.41.0->sentence-transformers) (2024.11.6)\n",
            "Requirement already satisfied: tokenizers<=0.23.0,>=0.22.0 in /usr/local/lib/python3.12/dist-packages (from transformers<5.0.0,>=4.41.0->sentence-transformers) (0.22.0)\n",
            "Requirement already satisfied: safetensors>=0.4.3 in /usr/local/lib/python3.12/dist-packages (from transformers<5.0.0,>=4.41.0->sentence-transformers) (0.6.2)\n",
            "Requirement already satisfied: joblib>=1.2.0 in /usr/local/lib/python3.12/dist-packages (from scikit-learn->sentence-transformers) (1.5.2)\n",
            "Requirement already satisfied: threadpoolctl>=3.1.0 in /usr/local/lib/python3.12/dist-packages (from scikit-learn->sentence-transformers) (3.6.0)\n",
            "Requirement already satisfied: mpmath<1.4,>=1.1.0 in /usr/local/lib/python3.12/dist-packages (from sympy>=1.13.3->torch>=1.11.0->sentence-transformers) (1.3.0)\n",
            "Requirement already satisfied: MarkupSafe>=2.0 in /usr/local/lib/python3.12/dist-packages (from jinja2->torch>=1.11.0->sentence-transformers) (3.0.2)\n",
            "Requirement already satisfied: charset_normalizer<4,>=2 in /usr/local/lib/python3.12/dist-packages (from requests->huggingface-hub>=0.20.0->sentence-transformers) (3.4.3)\n",
            "Requirement already satisfied: idna<4,>=2.5 in /usr/local/lib/python3.12/dist-packages (from requests->huggingface-hub>=0.20.0->sentence-transformers) (3.10)\n",
            "Requirement already satisfied: urllib3<3,>=1.21.1 in /usr/local/lib/python3.12/dist-packages (from requests->huggingface-hub>=0.20.0->sentence-transformers) (2.5.0)\n",
            "Requirement already satisfied: certifi>=2017.4.17 in /usr/local/lib/python3.12/dist-packages (from requests->huggingface-hub>=0.20.0->sentence-transformers) (2025.8.3)\n"
          ]
        }
      ]
    },
    {
      "cell_type": "code",
      "metadata": {
        "colab": {
          "base_uri": "https://localhost:8080/"
        },
        "collapsed": true,
        "id": "a6cd2706",
        "outputId": "eaf05fc3-9917-470c-f7a9-b5efbfd20288"
      },
      "source": [
        "from sentence_transformers import SentenceTransformer\n",
        "\n",
        "# Load a pre-trained model\n",
        "model = SentenceTransformer('all-MiniLM-L6-v2')\n",
        "\n",
        "# Define a sentence\n",
        "sentence = \"This is an example sentence.\"\n",
        "\n",
        "# Convert the sentence to a vector embedding\n",
        "embedding = model.encode(sentence)\n",
        "\n",
        "# Print the embedding\n",
        "print(embedding)\n",
        "print(embedding.shape)"
      ],
      "execution_count": 3,
      "outputs": [
        {
          "output_type": "stream",
          "name": "stdout",
          "text": [
            "[ 9.81246009e-02  6.78126812e-02  6.25231192e-02  9.50847790e-02\n",
            "  3.66476178e-02 -3.98466084e-03  7.47758010e-03 -1.32314591e-02\n",
            "  6.28837049e-02  2.24955268e-02  7.26958141e-02 -3.12742479e-02\n",
            "  4.63550948e-02 -1.25544686e-02  4.78147790e-02 -4.91031539e-03\n",
            "  4.94199172e-02 -6.41092658e-02 -9.69658569e-02  3.28887813e-02\n",
            "  5.41044548e-02  3.53285782e-02  3.30505781e-02  1.46993967e-02\n",
            " -3.34305950e-02 -2.56158616e-02 -5.07921055e-02  7.32545480e-02\n",
            "  1.10274017e-01 -2.96618547e-02 -6.75571039e-02 -3.05715129e-02\n",
            "  3.95602398e-02  4.54760492e-02  1.59961730e-02  3.85503732e-02\n",
            " -1.09540774e-02  8.48356485e-02 -4.42870744e-02 -6.79641031e-03\n",
            "  9.42569319e-03  5.07020777e-05  1.30356464e-03 -1.19697861e-02\n",
            "  1.36451796e-02 -8.41742456e-02 -1.65140067e-04  5.48380148e-03\n",
            "  2.56150514e-02 -3.15453149e-02 -1.07344739e-01 -4.57878187e-02\n",
            " -9.11749154e-02 -2.51050456e-03  1.79984029e-02  4.94015887e-02\n",
            "  6.18476607e-03  5.97962923e-02  2.70025861e-02 -1.61222778e-02\n",
            " -1.81496739e-02 -2.36348305e-02 -9.48971435e-02  6.62162974e-02\n",
            "  1.49227530e-01  2.43387930e-02  1.21022970e-03  6.07194938e-03\n",
            " -9.91703942e-02  8.50581303e-02  3.08261178e-02  2.91865971e-02\n",
            " -2.39559524e-02 -1.05593493e-02 -7.21519440e-02 -3.52564082e-02\n",
            "  3.33465822e-02 -4.39295471e-02  1.19755186e-01  8.86474475e-02\n",
            " -9.59190801e-02 -5.90801761e-02 -8.29264708e-03  3.81691754e-02\n",
            "  4.97996472e-02 -3.26821133e-02  1.99009962e-02 -1.08378559e-01\n",
            "  1.46790324e-02  1.81177873e-02 -6.13178313e-02 -8.97503495e-02\n",
            "  4.92216311e-02 -2.08710246e-02  4.05510562e-03 -3.54301184e-02\n",
            " -5.65777719e-02 -4.83137928e-02 -2.46602558e-02  7.35918730e-02\n",
            " -2.09235251e-02  4.06976752e-02  3.23265009e-02  7.66834617e-02\n",
            " -1.47476941e-02 -1.03045285e-01 -4.27449085e-02 -6.62931502e-02\n",
            "  1.54740643e-02 -2.68003084e-02 -9.17519107e-02 -3.56004536e-02\n",
            " -1.89324841e-02 -4.02961252e-03 -2.01934222e-02 -5.85348532e-02\n",
            " -1.01801686e-01 -4.48782276e-03 -6.97630271e-02  6.02409914e-02\n",
            "  2.98108552e-02  6.38082698e-02 -6.73061088e-02  3.35090118e-03\n",
            " -6.00398555e-02 -9.31366384e-02  4.56750765e-02 -6.71992651e-33\n",
            "  7.43326498e-03 -6.51097298e-02 -2.12591439e-02  3.51960473e-02\n",
            "  4.63360958e-02 -7.03048930e-02 -6.12895414e-02  1.73666235e-02\n",
            " -7.47974077e-03 -1.84687618e-02  1.60742877e-03 -2.58018691e-02\n",
            "  3.00469995e-02  8.75175372e-03  5.09295762e-02  7.17161670e-02\n",
            " -7.27179199e-02  1.32615075e-01 -8.03415198e-03  3.69322300e-02\n",
            " -2.36913450e-02  2.42693666e-02 -2.63962317e-02 -1.83385145e-02\n",
            " -1.47532877e-02 -7.43173361e-02  1.63448639e-02  1.80369802e-02\n",
            " -3.12331552e-03  4.12826501e-02  5.05986437e-02  4.44948785e-02\n",
            " -4.75530289e-02 -2.62647518e-03  5.46678379e-02  4.69779819e-02\n",
            "  6.37982488e-02 -2.18368191e-02  1.19202409e-03  6.15492743e-03\n",
            " -1.04747228e-02 -5.15488498e-02  2.17190254e-02 -3.78721505e-02\n",
            "  8.79114419e-02  2.36575771e-02  1.98856927e-02  2.17431523e-02\n",
            " -6.19210787e-02  2.06161682e-02 -1.06869582e-02  5.77621646e-02\n",
            "  5.94027974e-02 -2.88755503e-02  6.94771409e-02  1.01368618e-03\n",
            "  4.20079827e-02  3.47520187e-02 -1.66479417e-03 -1.01280715e-02\n",
            " -5.47199771e-02  4.05646898e-02 -5.60163707e-02  5.72631694e-02\n",
            " -2.57609151e-02  2.93969885e-02  1.02984533e-02 -4.91524637e-02\n",
            "  1.54277403e-02  2.86933873e-02  1.16814580e-02 -6.96875993e-03\n",
            " -8.34676698e-02  1.08369827e-01 -4.19826955e-02 -4.26629856e-02\n",
            " -2.18973551e-02 -2.16259249e-02 -7.85218365e-03  3.82203497e-02\n",
            " -1.80090237e-02 -1.49435520e-01  2.32264176e-02  1.50285019e-02\n",
            " -3.98940258e-02  3.75170028e-03  4.30066995e-02 -8.47546160e-02\n",
            " -3.02967820e-02 -2.01307144e-02 -2.50301734e-02  3.52597865e-03\n",
            "  5.82348220e-02  5.49473939e-03  6.48979517e-03  3.17468294e-33\n",
            " -4.24382687e-02  2.99222190e-02 -8.83619189e-02  6.57530054e-02\n",
            "  1.04630806e-01 -8.89666378e-03  4.28945012e-02 -9.55055058e-02\n",
            "  3.16818058e-02  7.35274926e-02 -1.30848780e-01  2.55299211e-02\n",
            "  1.60621665e-02 -4.37561842e-03  2.92025376e-02 -8.13414622e-03\n",
            "  6.52574673e-02  6.21568121e-04 -7.83582963e-03  4.15606052e-02\n",
            " -4.37204801e-02  9.50402543e-02 -2.58426256e-02  8.70166123e-02\n",
            " -4.14714999e-02  3.54404971e-02 -1.43871708e-02 -2.60752290e-02\n",
            " -9.59003866e-02 -8.88151769e-03  7.06993928e-03 -9.05238539e-02\n",
            " -7.97419176e-02 -1.42276539e-02 -5.34899607e-02  5.12256697e-02\n",
            "  2.45407969e-02 -3.69746462e-02 -7.34110102e-02 -6.87430101e-03\n",
            "  6.81255059e-03 -3.29183228e-02  1.57907438e-02  1.05945572e-01\n",
            "  2.27151178e-02 -5.64172491e-02 -3.20641957e-02 -1.05091512e-01\n",
            " -3.29046138e-02  5.13918661e-02 -1.00346439e-01  4.49952409e-02\n",
            " -3.29613797e-02 -1.96408238e-02 -1.05408877e-01  1.19737126e-02\n",
            " -1.11709060e-02 -6.95774034e-02 -9.78967361e-03  1.60108935e-02\n",
            " -5.11795357e-02  8.79137032e-03 -6.57614367e-03  6.62925094e-02\n",
            "  1.09561101e-01 -5.47592789e-02 -5.70933148e-02  5.02977222e-02\n",
            "  1.26224915e-02  2.84540746e-02  1.34376884e-01  1.10137053e-02\n",
            " -1.51951671e-01 -4.94761020e-02 -6.53733015e-02 -6.70923889e-02\n",
            " -6.96974620e-02 -3.12956758e-02 -6.17661439e-02 -7.42040053e-02\n",
            "  2.89738160e-02 -8.31245445e-03  4.32192981e-02 -1.75574273e-02\n",
            " -5.17868577e-03 -5.43242954e-02 -4.12755534e-02 -8.27069432e-02\n",
            " -1.59864686e-02  8.61799717e-03  6.25596091e-04 -6.52349442e-02\n",
            "  7.92634487e-02  2.68022772e-02 -2.54140515e-02 -1.96517522e-08\n",
            " -2.25327536e-02 -1.51006067e-02  8.19408447e-02 -3.95904146e-02\n",
            "  4.71108034e-02  1.52063081e-02  6.53768554e-02  1.84353311e-02\n",
            " -7.97174778e-03 -3.77309434e-02  2.30440013e-02  4.04503122e-02\n",
            " -5.69720455e-02 -3.07004876e-03  5.36663570e-02  6.09493107e-02\n",
            "  3.83155495e-02 -3.80756930e-02 -2.67545786e-02  6.74039125e-02\n",
            " -5.41770011e-02  4.58982512e-02 -1.29086562e-02  1.50684696e-02\n",
            "  3.30093168e-02  4.98076947e-03  4.34086062e-02  6.51896074e-02\n",
            "  1.62157193e-02  3.61371078e-02  5.56742325e-02  1.19041130e-01\n",
            "  2.40566526e-02  1.51417786e-02  6.05638400e-02  3.68196592e-02\n",
            "  4.12563123e-02 -3.15589570e-02  5.62543869e-02 -2.57559884e-02\n",
            "  1.33293476e-02  4.84407134e-02 -2.17747353e-02  1.10081084e-01\n",
            "  3.85895595e-02  3.80591564e-02 -4.87108342e-03 -4.32832912e-02\n",
            " -2.53741648e-02  1.60137303e-02  1.83309466e-02  5.63806035e-02\n",
            "  3.46150696e-02 -2.06598938e-02  2.12776363e-02  1.89378858e-02\n",
            "  3.38344462e-02 -6.96251215e-03 -2.43259538e-02 -1.97802428e-02\n",
            " -1.98953506e-02  3.46440822e-02  4.96272556e-02 -2.92130094e-02]\n",
            "(384,)\n"
          ]
        }
      ]
    },
    {
      "cell_type": "code",
      "metadata": {
        "colab": {
          "base_uri": "https://localhost:8080/"
        },
        "collapsed": true,
        "id": "815881a7",
        "outputId": "1a4bf8dd-d43c-47d3-fe5d-1869e65deab3"
      },
      "source": [
        "# Define another sentence\n",
        "sentence2 = \"This is a different sentence.\"\n",
        "\n",
        "# Convert the second sentence to a vector embedding\n",
        "embedding2 = model.encode(sentence2)\n",
        "\n",
        "# Print the second embedding\n",
        "print(embedding2)\n",
        "print(embedding2.shape)"
      ],
      "execution_count": 4,
      "outputs": [
        {
          "output_type": "stream",
          "name": "stdout",
          "text": [
            "[ 8.01044628e-02  5.34389131e-02  2.48756204e-02  2.68783681e-02\n",
            "  3.37035060e-02 -2.11716983e-02  1.56653989e-02 -5.16671464e-02\n",
            "  1.01409741e-01 -5.23458561e-03  9.95611697e-02 -3.99681963e-02\n",
            "  1.21809943e-02  3.22171836e-03 -2.54610796e-02  8.51401687e-03\n",
            "  5.55238388e-02 -6.44899681e-02 -2.36074701e-02  6.14525415e-02\n",
            "  1.30588580e-02  7.29566962e-02  3.32912579e-02  4.83322097e-03\n",
            "  3.49844173e-02  8.33468325e-03 -3.70671949e-03  8.58720317e-02\n",
            "  4.01935801e-02 -5.18682562e-02 -6.54509850e-03 -4.10219282e-03\n",
            "  2.75245346e-02  3.57832573e-02 -1.55663898e-03 -2.34768409e-02\n",
            " -1.77120380e-02  7.62897655e-02 -3.11042126e-02  1.31385466e-02\n",
            "  2.89933383e-02 -6.03231862e-02  1.88466132e-04  1.42264273e-02\n",
            "  7.38844508e-03 -1.01092802e-02 -4.60112095e-02 -2.45972928e-02\n",
            " -8.41495022e-03 -1.12483669e-02 -1.26778141e-01 -1.03694983e-01\n",
            " -3.53556536e-02  9.88887390e-04  3.68106551e-02  2.67202947e-02\n",
            "  4.22701500e-02  2.70441957e-02  4.71653007e-02 -1.61292572e-02\n",
            " -4.97286953e-02  8.90068989e-03 -4.90401275e-02  9.72568095e-02\n",
            "  1.42787948e-01  2.90716477e-02  4.69982297e-05 -6.77178949e-02\n",
            " -1.54613275e-02  5.43861464e-03  6.90927991e-05  6.10673800e-02\n",
            "  1.94364395e-02 -4.55802307e-02 -5.16157821e-02 -1.32531086e-02\n",
            "  6.46462711e-03 -5.10900095e-02  7.12904856e-02  1.00650966e-01\n",
            " -5.30738011e-02 -9.71854106e-02  2.75841802e-02  7.96223991e-03\n",
            "  2.73512001e-03 -5.05205803e-02 -2.76036374e-03 -6.05437383e-02\n",
            " -8.81146360e-03 -1.28282616e-02 -8.20724759e-03 -4.93120924e-02\n",
            "  3.62967551e-02 -6.28184387e-03 -1.01703368e-01 -8.11433643e-02\n",
            " -8.24849084e-02  3.72312181e-02 -1.22736944e-02  1.25751734e-01\n",
            " -6.67797327e-02  4.12680581e-02 -1.70405433e-02  9.09732282e-02\n",
            " -1.28627168e-02 -8.53450298e-02 -5.72321601e-02 -1.71724614e-02\n",
            " -1.93680394e-02 -3.21537443e-02 -5.26411459e-02  5.53073874e-03\n",
            "  1.08263642e-02 -2.33474467e-03  1.76719930e-02  5.76498136e-02\n",
            " -6.36965781e-02  1.25688594e-02  6.85893046e-03  7.63762072e-02\n",
            "  5.45864254e-02 -3.65322875e-03 -4.32618670e-02  1.54742077e-02\n",
            " -5.98135218e-02 -1.47352621e-01  2.16806214e-02 -8.36542245e-33\n",
            "  5.96382469e-02 -5.21343909e-02 -7.09921960e-03  4.77800099e-03\n",
            "  3.82191874e-02 -5.95817063e-03  2.03012433e-02  4.76410016e-02\n",
            " -4.01927643e-02 -8.19325149e-02 -1.36471745e-02 -5.99256977e-02\n",
            "  4.34886031e-02 -5.01961000e-02  9.40351784e-02  2.31083594e-02\n",
            " -7.36242756e-02  6.38074130e-02 -6.54961495e-03  9.50239375e-02\n",
            "  3.14505328e-03  4.79334220e-02 -4.78865486e-03  2.03323681e-02\n",
            "  4.15265262e-02 -9.04187709e-02 -3.90863977e-03  7.32976049e-02\n",
            " -3.94943058e-02  1.38914539e-02  3.07518765e-02  9.29327309e-02\n",
            "  2.75404453e-02 -6.01172494e-03  4.83541302e-02  2.45804191e-02\n",
            "  3.07297409e-02 -5.81448711e-02  5.29671274e-03 -5.54585233e-02\n",
            " -2.61077657e-02  1.12631163e-02 -1.78053286e-02 -1.01071997e-02\n",
            " -2.15942878e-02  1.00675218e-01  7.64344037e-02 -1.57311764e-02\n",
            " -9.19133890e-03  1.98076274e-02 -5.21851815e-02  1.83916762e-02\n",
            "  4.52704802e-02 -2.31184643e-02  8.54364559e-02  4.16697338e-02\n",
            " -1.85346361e-02  3.45692933e-02  7.65460730e-02  1.46749581e-03\n",
            " -2.82008154e-03  8.87356550e-02 -3.77334468e-02  3.20178503e-03\n",
            "  1.71358008e-02  2.64874771e-02  3.26862335e-02  3.60249840e-02\n",
            "  4.63038534e-02  1.38118807e-02 -7.20073283e-03 -5.93171977e-02\n",
            " -5.59523366e-02  8.95966738e-02 -3.25601399e-02 -3.51688527e-02\n",
            " -1.28233312e-02  1.55146420e-02 -2.87883990e-02 -9.54021793e-03\n",
            " -4.59959954e-02 -5.20298705e-02 -2.20126882e-02  2.15281397e-02\n",
            " -1.11836959e-02  1.74886268e-02  3.97699000e-03 -7.20136333e-03\n",
            "  1.82861891e-02  6.81972951e-02 -1.46888131e-02  9.41888615e-03\n",
            "  8.62011462e-02 -4.27108780e-02 -8.76275916e-03  4.93955069e-33\n",
            " -7.88912997e-02  5.66798598e-02 -6.05396330e-02  7.83005208e-02\n",
            "  6.69517070e-02 -2.76303440e-02 -3.62626463e-02  1.46544231e-02\n",
            "  3.64949033e-02  1.37272730e-01 -7.83607885e-02  4.69821356e-02\n",
            "  3.83012705e-02 -3.50213563e-03  7.40265176e-02  3.11285220e-02\n",
            "  1.86009780e-02  5.29819019e-02 -3.26870643e-02  3.41650546e-02\n",
            " -2.07342692e-02  1.64340422e-01 -6.40590489e-02  1.58690378e-01\n",
            " -2.36203987e-02 -1.35595854e-02  7.27965757e-02 -1.60595849e-02\n",
            " -8.36232752e-02  3.01373694e-02  3.71244662e-02 -1.04351968e-01\n",
            " -1.04370087e-01 -1.99303199e-02 -6.47019073e-02 -1.47620505e-02\n",
            "  1.41641796e-02 -1.62776504e-02 -8.10527876e-02  7.70923868e-03\n",
            "  4.02092375e-02 -8.45026448e-02 -1.69082303e-02  8.76453593e-02\n",
            "  2.63026357e-02 -2.80273929e-02 -5.83274625e-02 -7.84831345e-02\n",
            "  2.62431819e-02  1.63672175e-02 -2.87912097e-02 -1.30993882e-02\n",
            " -2.09112535e-03 -6.29809499e-03 -8.54094326e-02  5.52091599e-02\n",
            "  7.78134912e-02 -1.02260351e-01 -8.10005814e-02 -5.09027578e-02\n",
            " -1.67704411e-02  3.43916453e-02 -7.11395144e-02  6.12249002e-02\n",
            "  1.18319258e-01 -3.07310689e-02 -5.70627339e-02  5.10546565e-02\n",
            "  3.69635783e-02 -2.20369752e-02 -2.13196613e-02 -1.15171917e-01\n",
            " -7.57954344e-02 -4.15606983e-02 -6.77856654e-02 -8.78605396e-02\n",
            " -6.06115721e-02 -3.44876759e-02 -4.69201356e-02 -5.43267913e-02\n",
            "  3.38484757e-02 -5.28135262e-02  1.52260521e-02 -1.83012278e-03\n",
            " -2.02721469e-02  7.25761522e-03 -4.64943558e-04 -7.33323470e-02\n",
            " -2.46256329e-02 -1.61694654e-03 -6.26466423e-02 -7.68288597e-02\n",
            "  9.47507694e-02  2.52039582e-02  9.05343518e-03 -2.41845566e-08\n",
            "  1.93563160e-02 -3.08951121e-02 -7.05738179e-03 -2.74649425e-03\n",
            " -1.25163719e-02  4.59492318e-02  2.40164939e-02 -1.33135682e-02\n",
            "  2.06278099e-04  3.73896374e-03  5.53979725e-02  9.08318162e-03\n",
            " -7.96900168e-02  2.32653674e-02 -1.17633783e-03  6.76387325e-02\n",
            " -1.76750263e-03 -2.23473944e-02  1.70019246e-03  8.75952840e-02\n",
            " -6.29295409e-03  4.07806002e-02  1.23553853e-02 -1.42212426e-02\n",
            "  1.45406928e-02 -6.57106703e-03  3.11880577e-02 -1.03861196e-02\n",
            " -6.93871872e-03  3.29090804e-02  3.85317393e-02  1.33842379e-01\n",
            " -9.61528451e-04  2.47472730e-02 -1.48045095e-02 -4.77470495e-02\n",
            "  8.19507986e-02 -3.29242274e-02  6.16356395e-02  2.57596821e-02\n",
            "  4.61364202e-02  2.66445614e-02 -3.49274352e-02  1.47394150e-01\n",
            "  2.43972912e-02  9.40287393e-03  4.78552096e-02 -5.41712493e-02\n",
            " -2.58105062e-02 -2.41591949e-02  1.29130506e-03  1.66120157e-02\n",
            "  7.67738894e-02 -1.93960425e-02  1.22768067e-01 -2.54681520e-02\n",
            " -3.60385850e-02 -4.80941646e-02 -1.56341102e-02 -4.08928059e-02\n",
            " -2.19374727e-02 -5.70383593e-02  2.39451379e-02 -5.98997958e-02]\n",
            "(384,)\n"
          ]
        }
      ]
    },
    {
      "cell_type": "code",
      "metadata": {
        "colab": {
          "base_uri": "https://localhost:8080/"
        },
        "id": "85907d5b",
        "outputId": "e981438f-ae8d-4bfd-b466-6a021644d42e"
      },
      "source": [
        "from sklearn.metrics.pairwise import cosine_similarity\n",
        "\n",
        "def calculate_similarity(embedding1, embedding2):\n",
        "  \"\"\"\n",
        "  Calculates the cosine similarity between two sentence embeddings.\n",
        "\n",
        "  Args:\n",
        "    embedding1: The vector embedding of the first sentence.\n",
        "    embedding2: The vector embedding of the second sentence.\n",
        "\n",
        "  Returns:\n",
        "    The cosine similarity score between the two embeddings.\n",
        "  \"\"\"\n",
        "  # Reshape the embeddings to be 2D arrays for cosine_similarity\n",
        "  embedding1 = embedding1.reshape(1, -1)\n",
        "  embedding2 = embedding2.reshape(1, -1)\n",
        "\n",
        "  return cosine_similarity(embedding1, embedding2)[0][0]\n",
        "\n",
        "# Calculate the similarity between the two embeddings\n",
        "similarity_score = calculate_similarity(embedding, embedding2)\n",
        "\n",
        "print(f\"Similarity score: {similarity_score}\")"
      ],
      "execution_count": 5,
      "outputs": [
        {
          "output_type": "stream",
          "name": "stdout",
          "text": [
            "Similarity score: 0.6716303825378418\n"
          ]
        }
      ]
    },
    {
      "cell_type": "code",
      "source": [
        "def are_sentences_similar_in_meaning(similarity_score, threshold=0.7):\n",
        "  \"\"\"\n",
        "  Determines if two sentences convey similar meaning based on their cosine similarity score.\n",
        "\n",
        "  Args:\n",
        "    similarity_score: The cosine similarity score between the two sentence embeddings.\n",
        "    threshold: The similarity score threshold above which sentences are considered to have similar meaning.\n",
        "\n",
        "  Returns:\n",
        "    True if the similarity score is above the threshold, False otherwise.\n",
        "  \"\"\"\n",
        "  return similarity_score >= threshold\n",
        "\n",
        "# Example usage with the previously calculated similarity score\n",
        "is_similar = are_sentences_similar_in_meaning(similarity_score)\n",
        "\n",
        "if is_similar:\n",
        "  print(\"The two sentences likely convey the same meaning.\")\n",
        "else:\n",
        "  print(\"The two sentences likely do not convey the same meaning.\")"
      ],
      "metadata": {
        "colab": {
          "base_uri": "https://localhost:8080/"
        },
        "id": "cOIWS0sK2WOT",
        "outputId": "63524f62-b1fb-48aa-edf5-508d3db4ac57"
      },
      "execution_count": 6,
      "outputs": [
        {
          "output_type": "stream",
          "name": "stdout",
          "text": [
            "The two sentences likely do not convey the same meaning.\n"
          ]
        }
      ]
    }
  ]
}