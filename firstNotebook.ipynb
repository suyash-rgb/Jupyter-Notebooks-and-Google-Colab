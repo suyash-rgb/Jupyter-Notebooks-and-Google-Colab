{
  "nbformat": 4,
  "nbformat_minor": 0,
  "metadata": {
    "colab": {
      "provenance": [],
      "authorship_tag": "ABX9TyO20YQN9u+jif2EKrYOOsWY",
      "include_colab_link": true
    },
    "kernelspec": {
      "name": "python3",
      "display_name": "Python 3"
    },
    "language_info": {
      "name": "python"
    }
  },
  "cells": [
    {
      "cell_type": "markdown",
      "metadata": {
        "id": "view-in-github",
        "colab_type": "text"
      },
      "source": [
        "<a href=\"https://colab.research.google.com/github/suyash-rgb/Jupyter-Notebooks-and-Google-Colab/blob/main/firstNotebook.ipynb\" target=\"_parent\"><img src=\"https://colab.research.google.com/assets/colab-badge.svg\" alt=\"Open In Colab\"/></a>"
      ]
    },
    {
      "cell_type": "code",
      "execution_count": null,
      "metadata": {
        "colab": {
          "base_uri": "https://localhost:8080/"
        },
        "id": "_S1Rs-5_qYp5",
        "outputId": "0fba53bc-4a57-412f-e47b-9fd6c63423b8"
      },
      "outputs": [
        {
          "output_type": "stream",
          "name": "stdout",
          "text": [
            "you're an adult\n"
          ]
        }
      ],
      "source": [
        "age=20\n",
        "if(age>18):\n",
        "  print(\"you're an adult\")\n",
        "else:\n",
        "  print(\"not allowed\")"
      ]
    },
    {
      "cell_type": "markdown",
      "source": [
        "range() is a built-in function that generates a sequence of numbers."
      ],
      "metadata": {
        "id": "1US-PsuowMtK"
      }
    },
    {
      "cell_type": "code",
      "source": [
        "for i in range(5):\n",
        "  print(i)"
      ],
      "metadata": {
        "colab": {
          "base_uri": "https://localhost:8080/"
        },
        "id": "f98E8MdBrZNK",
        "outputId": "24eaed1b-fa2a-402e-eff6-bfd2b732439c"
      },
      "execution_count": null,
      "outputs": [
        {
          "output_type": "stream",
          "name": "stdout",
          "text": [
            "0\n",
            "1\n",
            "2\n",
            "3\n",
            "4\n"
          ]
        }
      ]
    },
    {
      "cell_type": "code",
      "source": [
        "x = range(10)"
      ],
      "metadata": {
        "id": "ERtZe-WavVJL"
      },
      "execution_count": null,
      "outputs": []
    },
    {
      "cell_type": "markdown",
      "source": [
        "can be written in this way too.\n",
        "\n"
      ],
      "metadata": {
        "id": "2B3NMFY4wLVK"
      }
    },
    {
      "cell_type": "code",
      "source": [
        "for i in x:\n",
        "  print (i)"
      ],
      "metadata": {
        "colab": {
          "base_uri": "https://localhost:8080/"
        },
        "id": "cY0Sr7zIv7yW",
        "outputId": "24e3e748-6e6a-4b17-b946-b4991a443ee1"
      },
      "execution_count": null,
      "outputs": [
        {
          "output_type": "stream",
          "name": "stdout",
          "text": [
            "0\n",
            "1\n",
            "2\n",
            "3\n",
            "4\n",
            "5\n",
            "6\n",
            "7\n",
            "8\n",
            "9\n"
          ]
        }
      ]
    },
    {
      "cell_type": "markdown",
      "source": [
        "The range() function takes up to three integer arguments:\n",
        "\n",
        "range(stop): Generates a sequence from 0 up to, but not including, the stop number. The step size is 1 by default.\n",
        "\n",
        "range(start, stop): Generates a sequence from the start number up to, but not including, the stop number. The step size is 1 by default.\n",
        "\n",
        "range(start, stop, step): Generates a sequence from the start number up to, but not including, the stop number, with a specified step size. The step can be positive or negative."
      ],
      "metadata": {
        "id": "eC6YFQRmwwWe"
      }
    },
    {
      "cell_type": "code",
      "source": [
        "!git pull origin main"
      ],
      "metadata": {
        "id": "h_E9Yrluww-e",
        "colab": {
          "base_uri": "https://localhost:8080/"
        },
        "outputId": "9c74ad78-7bb8-4965-da55-2571709a8e64"
      },
      "execution_count": 1,
      "outputs": [
        {
          "output_type": "stream",
          "name": "stdout",
          "text": [
            "fatal: not a git repository (or any of the parent directories): .git\n"
          ]
        }
      ]
    }
  ]
}