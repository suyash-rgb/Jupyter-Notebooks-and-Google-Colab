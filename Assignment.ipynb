{
  "nbformat": 4,
  "nbformat_minor": 0,
  "metadata": {
    "colab": {
      "provenance": [],
      "authorship_tag": "ABX9TyMGT9E7Q18tRP2a7vybGGc9",
      "include_colab_link": true
    },
    "kernelspec": {
      "name": "python3",
      "display_name": "Python 3"
    },
    "language_info": {
      "name": "python"
    }
  },
  "cells": [
    {
      "cell_type": "markdown",
      "metadata": {
        "id": "view-in-github",
        "colab_type": "text"
      },
      "source": [
        "<a href=\"https://colab.research.google.com/github/suyash-rgb/Jupyter-Notebooks-and-Google-Colab/blob/main/Assignment.ipynb\" target=\"_parent\"><img src=\"https://colab.research.google.com/assets/colab-badge.svg\" alt=\"Open In Colab\"/></a>"
      ]
    },
    {
      "cell_type": "code",
      "source": [
        "def calculator():\n",
        "  try:\n",
        "    num1 = float(input(\"Enter the first number: \"))\n",
        "    operator = input(\"Enter an operator (+, -, *, /): \")\n",
        "    num2 = float(input(\"Enter the second number: \"))\n",
        "\n",
        "    if operator == '+':\n",
        "      result = num1 + num2\n",
        "    elif operator == '-':\n",
        "      result = num1 - num2\n",
        "    elif operator == '*':\n",
        "      result = num1 * num2\n",
        "    elif operator == '/':\n",
        "      if num2 == 0:\n",
        "        print(\"Cannot divide by zero.\")\n",
        "        return\n",
        "      result = num1 / num2\n",
        "    else:\n",
        "      print(\"Invalid operator.\")\n",
        "      return\n",
        "\n",
        "    print(f\"Result: {result}\")\n",
        "\n",
        "  except ValueError:\n",
        "    print(\"Invalid input. Please enter valid numbers.\")\n",
        "\n",
        "calculator()"
      ],
      "metadata": {
        "colab": {
          "base_uri": "https://localhost:8080/"
        },
        "id": "c057PHA4ZT6V",
        "outputId": "63c0db04-ab9f-4178-b1ea-cb55bf084fbf"
      },
      "execution_count": 7,
      "outputs": [
        {
          "output_type": "stream",
          "name": "stdout",
          "text": [
            "Enter the first number: 2\n",
            "Enter an operator (+, -, *, /): +\n",
            "Enter the second number: 2\n",
            "Result: 4.0\n"
          ]
        }
      ]
    },
    {
      "cell_type": "code",
      "source": [
        "def evenOdd():\n",
        "  var1 = int(input(\"Enter a number:\"))\n",
        "  if(var1%2==0):\n",
        "    print(\"Number is even\")\n",
        "  else:\n",
        "    print(\"Number is odd\")\n",
        "\n",
        "evenOdd()"
      ],
      "metadata": {
        "colab": {
          "base_uri": "https://localhost:8080/"
        },
        "id": "BURaVQOxZzp5",
        "outputId": "9c7a0abb-3fb5-4278-9386-a15d6f51cdf2"
      },
      "execution_count": 8,
      "outputs": [
        {
          "output_type": "stream",
          "name": "stdout",
          "text": [
            "Enter a number:12\n",
            "Number is even\n"
          ]
        }
      ]
    },
    {
      "cell_type": "code",
      "source": [
        "def is_prime():\n",
        "  try:\n",
        "    num = int(input(\"Enter an integer: \"))\n",
        "    if num <= 1:\n",
        "      print(\"number<1 or negative number entered\")\n",
        "      return\n",
        "    else:\n",
        "      for i in range(2, int(num*0.5) + 1):\n",
        "        if num % i == 0:\n",
        "          print(f\"{num} is not a prime number.\")\n",
        "          return\n",
        "      print(f\"{num} is a prime number.\")\n",
        "  except ValueError:\n",
        "    print(\"Please enter an integer.\")\n",
        "\n",
        "is_prime()"
      ],
      "metadata": {
        "colab": {
          "base_uri": "https://localhost:8080/"
        },
        "id": "wdPeFN7Sl-3c",
        "outputId": "cd4e1c81-6c4d-4b03-b7d9-dba5f7d3c0cb"
      },
      "execution_count": 11,
      "outputs": [
        {
          "output_type": "stream",
          "name": "stdout",
          "text": [
            "Enter an integer: 19\n",
            "19 is a prime number.\n"
          ]
        }
      ]
    },
    {
      "cell_type": "code",
      "source": [
        "def isPrime():\n",
        "  try:\n",
        "    num=int(input(\"Enter an integer: \"))\n",
        "    midpoint = int((num*0.5) +1)\n",
        "    if num<=1:\n",
        "      print(\"number< 1 or negative number entered\")\n",
        "      return\n",
        "    else:\n",
        "      for i in range(2, midpoint):\n",
        "        if num%i==0:\n",
        "          print(\" is not a prime number.\")\n",
        "          return\n",
        "      print(\"prime number\")\n",
        "  except ValueError:\n",
        "    print(\"Please enter an integer\")\n",
        "\n",
        "isPrime()\n"
      ],
      "metadata": {
        "colab": {
          "base_uri": "https://localhost:8080/"
        },
        "id": "5TVphcu8nykn",
        "outputId": "14185085-a296-416b-c581-dc00eb660f6b"
      },
      "execution_count": 14,
      "outputs": [
        {
          "output_type": "stream",
          "name": "stdout",
          "text": [
            "Enter an integer: 15\n",
            " is not a prime number.\n"
          ]
        }
      ]
    }
  ]
}