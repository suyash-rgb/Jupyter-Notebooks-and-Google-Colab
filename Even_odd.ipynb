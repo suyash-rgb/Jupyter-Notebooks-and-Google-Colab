{
  "nbformat": 4,
  "nbformat_minor": 0,
  "metadata": {
    "colab": {
      "provenance": [],
      "authorship_tag": "ABX9TyPMP00VeaBUzxT69ESKo96F",
      "include_colab_link": true
    },
    "kernelspec": {
      "name": "python3",
      "display_name": "Python 3"
    },
    "language_info": {
      "name": "python"
    }
  },
  "cells": [
    {
      "cell_type": "markdown",
      "metadata": {
        "id": "view-in-github",
        "colab_type": "text"
      },
      "source": [
        "<a href=\"https://colab.research.google.com/github/suyash-rgb/Jupyter-Notebooks-and-Google-Colab/blob/main/Even_odd.ipynb\" target=\"_parent\"><img src=\"https://colab.research.google.com/assets/colab-badge.svg\" alt=\"Open In Colab\"/></a>"
      ]
    },
    {
      "cell_type": "code",
      "execution_count": 3,
      "metadata": {
        "colab": {
          "base_uri": "https://localhost:8080/"
        },
        "id": "75bdRCFvfOII",
        "outputId": "6bf43146-d347-41e0-9eb1-cac8817e0a79"
      },
      "outputs": [
        {
          "output_type": "stream",
          "name": "stdout",
          "text": [
            "Enter a number: 0\n",
            "Please enter a natural number\n"
          ]
        }
      ],
      "source": [
        "num = int(input(\"Enter a number: \"))\n",
        "\n",
        "if num<=0:\n",
        "  print(\"Please enter a natural number\")\n",
        "else:\n",
        "  if num%2==0:\n",
        "    print(\"number is even\")\n",
        "  else:\n",
        "    print(\"number is odd\")"
      ]
    }
  ]
}