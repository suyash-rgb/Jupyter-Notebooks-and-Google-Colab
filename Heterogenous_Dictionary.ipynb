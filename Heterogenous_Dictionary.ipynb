{
  "nbformat": 4,
  "nbformat_minor": 0,
  "metadata": {
    "colab": {
      "provenance": [],
      "authorship_tag": "ABX9TyNcW5rvXyRgNbMTJ2LevcB3",
      "include_colab_link": true
    },
    "kernelspec": {
      "name": "python3",
      "display_name": "Python 3"
    },
    "language_info": {
      "name": "python"
    }
  },
  "cells": [
    {
      "cell_type": "markdown",
      "metadata": {
        "id": "view-in-github",
        "colab_type": "text"
      },
      "source": [
        "<a href=\"https://colab.research.google.com/github/suyash-rgb/Jupyter-Notebooks-and-Google-Colab/blob/main/Heterogenous_Dictionary.ipynb\" target=\"_parent\"><img src=\"https://colab.research.google.com/assets/colab-badge.svg\" alt=\"Open In Colab\"/></a>"
      ]
    },
    {
      "cell_type": "code",
      "execution_count": 2,
      "metadata": {
        "colab": {
          "base_uri": "https://localhost:8080/"
        },
        "id": "fkR-kFB_rJTB",
        "outputId": "fb45e4f8-b4d3-4331-fe49-b550bbaf359d"
      },
      "outputs": [
        {
          "output_type": "stream",
          "name": "stdout",
          "text": [
            "Enter the number of items:2\n",
            "Enter the key {i+1}:1\n",
            "Enter the data type of the value:suyash\n",
            "Enter the key {i+1}:2\n",
            "Enter the data type of the value:1,2,3,4\n",
            "Heterogeneous Dictionary: {}\n"
          ]
        }
      ],
      "source": [
        "def create_heterogeneous_dict():\n",
        "  heterogenous_dict={}\n",
        "  items=int(input(\"Enter the number of items:\"))\n",
        "  for i in range(items):\n",
        "    key=input(f\"Enter the key {i+1}:\")\n",
        "    value_type=input(f\"Enter the data type of the value (int, float, str, list):\")\n",
        "\n",
        "    if value_type==\"int\":\n",
        "      value=int(input(f\"Enter the value for {key}:\"))\n",
        "    elif value_type==\"float\":\n",
        "      value=float(input(f\"Enter the value for {key}:\"))\n",
        "    elif value_type==\"str\":\n",
        "      value=input(f\"Enter the value for {key}:\")\n",
        "    elif value_type==\"list\":\n",
        "      value=input(f\"Enter the value for {key} (comma-separated):\").split(\",\")\n",
        "    else:\n",
        "        print(\"Invalid data type. Skipping this item.\")\n",
        "        continue # Skip to the next iteration\n",
        "\n",
        "    heterogenous_dict[key] = value # Insert the key-value pair\n",
        "\n",
        "  print(f\"Heterogeneous Dictionary: {heterogenous_dict}\")\n",
        "\n",
        "create_heterogeneous_dict()"
      ]
    }
  ]
}