{
  "nbformat": 4,
  "nbformat_minor": 0,
  "metadata": {
    "colab": {
      "provenance": [],
      "authorship_tag": "ABX9TyOe6WOT435pIso3/L4IMOhw",
      "include_colab_link": true
    },
    "kernelspec": {
      "name": "python3",
      "display_name": "Python 3"
    },
    "language_info": {
      "name": "python"
    }
  },
  "cells": [
    {
      "cell_type": "markdown",
      "metadata": {
        "id": "view-in-github",
        "colab_type": "text"
      },
      "source": [
        "<a href=\"https://colab.research.google.com/github/suyash-rgb/Jupyter-Notebooks-and-Google-Colab/blob/main/list_slicing.ipynb\" target=\"_parent\"><img src=\"https://colab.research.google.com/assets/colab-badge.svg\" alt=\"Open In Colab\"/></a>"
      ]
    },
    {
      "cell_type": "code",
      "execution_count": 5,
      "metadata": {
        "colab": {
          "base_uri": "https://localhost:8080/"
        },
        "id": "bgVb7cr2hidn",
        "outputId": "dbb6f198-f3a5-4e44-86c9-f7b8de01a6e1"
      },
      "outputs": [
        {
          "output_type": "stream",
          "name": "stdout",
          "text": [
            "[1, 23, 3, 4, 5, 6, 7, 8, 9, 10]\n",
            "[23, 3]\n",
            "[8, 9, 10]\n",
            "[]\n",
            "[6, 7, 8, 9]\n"
          ]
        }
      ],
      "source": [
        "my_list = [1,23,3,4,5,6,7,8,9,10]\n",
        "print(my_list)\n",
        "print(my_list[1:3])\n",
        "\n",
        "print(my_list[-3:])\n",
        "#print(my_list[-1:-5]) to check\n",
        "\n",
        "print(my_list[-5:-1])\n"
      ]
    },
    {
      "cell_type": "code",
      "metadata": {
        "colab": {
          "base_uri": "https://localhost:8080/"
        },
        "id": "c10784b1",
        "outputId": "8e90eaed-1ac6-4c54-f07f-90ef4dd59c35"
      },
      "source": [
        "my_tuple = (1,2,3,4,5,6,7,8,9,10)\n",
        "print(my_tuple)\n",
        "print(my_tuple[1:3])\n",
        "print(my_tuple[-3:])\n",
        "print(my_tuple[-5:-1])\n"
      ],
      "execution_count": 8,
      "outputs": [
        {
          "output_type": "stream",
          "name": "stdout",
          "text": [
            "(1, 2, 3, 4, 5, 6, 7, 8, 9, 10)\n",
            "(2, 3)\n",
            "(8, 9, 10)\n",
            "(6, 7, 8, 9)\n"
          ]
        }
      ]
    },
    {
      "cell_type": "markdown",
      "source": [
        "Adding two list\n"
      ],
      "metadata": {
        "id": "vYINr4USjXKM"
      }
    },
    {
      "cell_type": "code",
      "source": [
        "l1=[1,2,4,5,3,5,6,7]\n",
        "l2=[1,23,4,5,6,6,7]\n",
        "l3=l1+l2\n",
        "print(l3)"
      ],
      "metadata": {
        "colab": {
          "base_uri": "https://localhost:8080/"
        },
        "id": "SNmeTXUdjZXU",
        "outputId": "57d3ecf0-492a-49ad-89ad-9c4a7edec39b"
      },
      "execution_count": 9,
      "outputs": [
        {
          "output_type": "stream",
          "name": "stdout",
          "text": [
            "[1, 2, 4, 5, 3, 5, 6, 7, 1, 23, 4, 5, 6, 6, 7]\n"
          ]
        }
      ]
    },
    {
      "cell_type": "markdown",
      "source": [
        "extend a list\n"
      ],
      "metadata": {
        "id": "ZNy35k5Jju78"
      }
    },
    {
      "cell_type": "code",
      "source": [
        "l1=[1,2,4,5,3,5,6,7]\n",
        "l1.extend([2]) #need to pass as a list\n",
        "print(l1)"
      ],
      "metadata": {
        "colab": {
          "base_uri": "https://localhost:8080/"
        },
        "id": "_7INesG5jwwY",
        "outputId": "aa3e8ef2-715d-4379-a43e-a30170e6c4d0"
      },
      "execution_count": 11,
      "outputs": [
        {
          "output_type": "stream",
          "name": "stdout",
          "text": [
            "[1, 2, 4, 5, 3, 5, 6, 7, 2]\n"
          ]
        }
      ]
    },
    {
      "cell_type": "code",
      "metadata": {
        "colab": {
          "base_uri": "https://localhost:8080/"
        },
        "id": "fa7285ed",
        "outputId": "8fd98ef2-93f4-433d-e4ae-22ef7e739dfa"
      },
      "source": [
        "my_list = [1, 2, 3]\n",
        "\n",
        "# Multiply a list by an integer to repeat it\n",
        "repeated_list = my_list * 3\n",
        "print(\"Repeated list:\", repeated_list)\n",
        "\n"
      ],
      "execution_count": 12,
      "outputs": [
        {
          "output_type": "stream",
          "name": "stdout",
          "text": [
            "Repeated list: [1, 2, 3, 1, 2, 3, 1, 2, 3]\n"
          ]
        }
      ]
    },
    {
      "cell_type": "markdown",
      "source": [
        "make a list which contains all interger values and make a list will all natural numbers slice out all postive values from integer list and natural numbers"
      ],
      "metadata": {
        "id": "6xj4PmGhlNOJ"
      }
    },
    {
      "cell_type": "code",
      "source": [
        "#interger = [-10, -9, -8, -7, -6, -5, -4, -3, -2, -1, 0, 1, 2, 3, 4, 5, 6, 7, 8, 9, 10]\n",
        "#natural = [1,2,3,4,5,6,7,8,9,10]\n",
        "\n",
        "ilist = []\n",
        "for i in range(-10, 11):\n",
        "  ilist.append(i)\n",
        "print(ilist)\n",
        "\n",
        "nlist=[]\n",
        "for i in range(1,11):\n",
        "  nlist.append(i)\n",
        "print(nlist)\n",
        "\n",
        "resList= ilist[11:21]+nlist\n",
        "print(resList)\n",
        "\n",
        "\n"
      ],
      "metadata": {
        "colab": {
          "base_uri": "https://localhost:8080/"
        },
        "id": "BsqpHpszllyD",
        "outputId": "ece2afd6-0a53-482b-b8e6-14d243ab9c03"
      },
      "execution_count": 22,
      "outputs": [
        {
          "output_type": "stream",
          "name": "stdout",
          "text": [
            "[-10, -9, -8, -7, -6, -5, -4, -3, -2, -1, 0, 1, 2, 3, 4, 5, 6, 7, 8, 9, 10]\n",
            "[1, 2, 3, 4, 5, 6, 7, 8, 9, 10]\n",
            "[1, 2, 3, 4, 5, 6, 7, 8, 9, 10, 1, 2, 3, 4, 5, 6, 7, 8, 9, 10]\n"
          ]
        }
      ]
    }
  ]
}