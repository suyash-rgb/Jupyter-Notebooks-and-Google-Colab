{
  "nbformat": 4,
  "nbformat_minor": 0,
  "metadata": {
    "colab": {
      "provenance": [],
      "authorship_tag": "ABX9TyORLZ3PHUJWXqzP/++Yb5Dr",
      "include_colab_link": true
    },
    "kernelspec": {
      "name": "python3",
      "display_name": "Python 3"
    },
    "language_info": {
      "name": "python"
    }
  },
  "cells": [
    {
      "cell_type": "markdown",
      "metadata": {
        "id": "view-in-github",
        "colab_type": "text"
      },
      "source": [
        "<a href=\"https://colab.research.google.com/github/suyash-rgb/Jupyter-Notebooks-and-Google-Colab/blob/main/List.ipynb\" target=\"_parent\"><img src=\"https://colab.research.google.com/assets/colab-badge.svg\" alt=\"Open In Colab\"/></a>"
      ]
    },
    {
      "cell_type": "code",
      "source": [
        "list2 = [1,2,3,4,5,6,7,8,9,10]\n",
        "list1 = list(range(1,11))\n",
        "print(list1[0])\n",
        "print(list1[1])\n",
        "print(list1[2])\n",
        "print(list1[3])\n",
        "print(list1[4])\n",
        "print(list1[5])\n",
        "print(list1[6])\n",
        "print(list1[7])\n",
        "print(list1[8])\n",
        "print(list1[9])\n",
        "\n",
        "print(list2)"
      ],
      "metadata": {
        "colab": {
          "base_uri": "https://localhost:8080/"
        },
        "id": "FepGu_fXbdCx",
        "outputId": "e9e9cf9c-93af-4dc8-e193-30fe850daa91"
      },
      "execution_count": null,
      "outputs": [
        {
          "output_type": "stream",
          "name": "stdout",
          "text": [
            "1\n",
            "2\n",
            "3\n",
            "4\n",
            "5\n",
            "6\n",
            "7\n",
            "8\n",
            "9\n",
            "10\n",
            "[1, 2, 3, 4, 5, 6, 7, 8, 9, 10]\n"
          ]
        }
      ]
    },
    {
      "cell_type": "code",
      "source": [
        "HD = [1,2,3,4,5,6,7,8,9,10]\n",
        "print(HD[0])\n",
        "print(HD[1])\n",
        "print(HD[2])\n",
        "print(HD[3])\n",
        "print(HD[4])\n",
        "print(HD[5])\n",
        "print(HD[6])\n",
        "print(HD[7])\n",
        "print(HD[8])\n",
        "print(HD[9])\n",
        "print(HD[-1]) #print the last element of the list"
      ],
      "metadata": {
        "colab": {
          "base_uri": "https://localhost:8080/"
        },
        "id": "gyO9i8AoeYi6",
        "outputId": "2ff8ea23-c9b9-4bdb-8e4a-7e8fcc84c1c6"
      },
      "execution_count": null,
      "outputs": [
        {
          "output_type": "stream",
          "name": "stdout",
          "text": [
            "1\n",
            "2\n",
            "3\n",
            "4\n",
            "5\n",
            "6\n",
            "7\n",
            "8\n",
            "9\n",
            "10\n",
            "10\n"
          ]
        }
      ]
    },
    {
      "cell_type": "code",
      "source": [
        "ajay = [1,\"Suyash\",2,3,4,\"Aman\",5]\n",
        "print(ajay[0])\n",
        "print(ajay[1])\n",
        "print(ajay[2])\n",
        "print(ajay[3])\n",
        "print(ajay[4])\n",
        "print(ajay[5])\n",
        "print(ajay[6])"
      ],
      "metadata": {
        "colab": {
          "base_uri": "https://localhost:8080/"
        },
        "id": "Fi4jbHqve7LF",
        "outputId": "0953eb34-bb55-4613-a5f2-209af04df20b"
      },
      "execution_count": null,
      "outputs": [
        {
          "output_type": "stream",
          "name": "stdout",
          "text": [
            "1\n",
            "Suyash\n",
            "2\n",
            "3\n",
            "4\n",
            "Aman\n",
            "5\n"
          ]
        }
      ]
    },
    {
      "cell_type": "code",
      "source": [
        "\n",
        "list2 = [1,2]\n",
        "list2.append(5)\n",
        "list2.append(\"karuna\")\n",
        "print(list2)\n",
        "\n",
        "print(len(list2)) #print the length of list"
      ],
      "metadata": {
        "colab": {
          "base_uri": "https://localhost:8080/"
        },
        "id": "-nfi1Yb-f40p",
        "outputId": "c6a33edb-07b7-46cb-ca17-00746f23e8bf"
      },
      "execution_count": null,
      "outputs": [
        {
          "output_type": "stream",
          "name": "stdout",
          "text": [
            "[1, 2, 5, 'karuna']\n",
            "4\n"
          ]
        }
      ]
    },
    {
      "cell_type": "code",
      "source": [
        "list3 = []\n",
        "for i in range(1, 101):\n",
        "  list3.append(i)\n",
        "\n",
        "print(list3[-2])"
      ],
      "metadata": {
        "colab": {
          "base_uri": "https://localhost:8080/"
        },
        "id": "LIzf-Lgvitza",
        "outputId": "f252cab8-c9fc-4edf-d150-132081abd63f"
      },
      "execution_count": null,
      "outputs": [
        {
          "output_type": "stream",
          "name": "stdout",
          "text": [
            "99\n"
          ]
        }
      ]
    },
    {
      "cell_type": "code",
      "source": [],
      "metadata": {
        "id": "LMM6UoTAl69c"
      },
      "execution_count": null,
      "outputs": []
    }
  ]
}