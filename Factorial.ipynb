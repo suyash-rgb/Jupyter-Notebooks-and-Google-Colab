{
  "nbformat": 4,
  "nbformat_minor": 0,
  "metadata": {
    "colab": {
      "provenance": [],
      "authorship_tag": "ABX9TyPiYB01VYpK2nrsvnjADNaS",
      "include_colab_link": true
    },
    "kernelspec": {
      "name": "python3",
      "display_name": "Python 3"
    },
    "language_info": {
      "name": "python"
    }
  },
  "cells": [
    {
      "cell_type": "markdown",
      "metadata": {
        "id": "view-in-github",
        "colab_type": "text"
      },
      "source": [
        "<a href=\"https://colab.research.google.com/github/suyash-rgb/Jupyter-Notebooks-and-Google-Colab/blob/main/Factorial.ipynb\" target=\"_parent\"><img src=\"https://colab.research.google.com/assets/colab-badge.svg\" alt=\"Open In Colab\"/></a>"
      ]
    },
    {
      "cell_type": "code",
      "execution_count": 10,
      "metadata": {
        "colab": {
          "base_uri": "https://localhost:8080/"
        },
        "id": "sEUgYnXbg87T",
        "outputId": "7e68461c-dd32-44b4-9b4a-9e64614785ea"
      },
      "outputs": [
        {
          "output_type": "stream",
          "name": "stdout",
          "text": [
            "Enter a number6\n",
            "720\n"
          ]
        }
      ],
      "source": [
        "def fact():\n",
        "  num= int(input(\"Enter a number\"))\n",
        "  result=1\n",
        "  if(num<=0):\n",
        "    print(\"Enter a valid number\")\n",
        "  else:\n",
        "     for i in range(1, num+1):\n",
        "\n",
        "        result=result*i\n",
        "     print(result)\n",
        "\n",
        "fact()"
      ]
    }
  ]
}